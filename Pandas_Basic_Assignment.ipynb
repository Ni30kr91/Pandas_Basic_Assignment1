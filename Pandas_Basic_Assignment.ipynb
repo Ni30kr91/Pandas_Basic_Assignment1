{
 "cells": [
  {
   "cell_type": "markdown",
   "id": "a5eb8f6b-7d90-42d5-ad0e-53534852eb66",
   "metadata": {},
   "source": [
    "## Q1. Create a Pandas Series that contains the following data: 4, 8, 15, 16, 23, and 42. Then, print the series."
   ]
  },
  {
   "cell_type": "code",
   "execution_count": 1,
   "id": "4849c80e-e04a-4a5c-b9e6-a1f337a48742",
   "metadata": {},
   "outputs": [
    {
     "data": {
      "text/plain": [
       "0     4\n",
       "1     8\n",
       "2    15\n",
       "3    16\n",
       "4    23\n",
       "5    42\n",
       "dtype: int64"
      ]
     },
     "execution_count": 1,
     "metadata": {},
     "output_type": "execute_result"
    }
   ],
   "source": [
    "import pandas as pd\n",
    "pd.Series([4,8,15,16,23,42])"
   ]
  },
  {
   "cell_type": "code",
   "execution_count": null,
   "id": "169c9345-e302-4de9-bcb7-9ce05e1de074",
   "metadata": {},
   "outputs": [],
   "source": []
  },
  {
   "cell_type": "markdown",
   "id": "3f1b1d4b-3494-4f64-9359-5bf8c162769b",
   "metadata": {},
   "source": [
    "## Q2. Create a variable of list type containing 10 elements in it, and apply pandas.Series function on the variable print it."
   ]
  },
  {
   "cell_type": "code",
   "execution_count": 2,
   "id": "b6d50035-d545-4c00-9657-8412dde3b950",
   "metadata": {},
   "outputs": [
    {
     "name": "stdout",
     "output_type": "stream",
     "text": [
      "0     10\n",
      "1     20\n",
      "2     30\n",
      "3     40\n",
      "4     50\n",
      "5     60\n",
      "6     70\n",
      "7     80\n",
      "8     90\n",
      "9    100\n",
      "dtype: int64\n"
     ]
    }
   ],
   "source": [
    "import pandas as pd\n",
    "x = pd.Series([10, 20, 30, 40, 50, 60, 70, 80, 90, 100])\n",
    "print(x)"
   ]
  },
  {
   "cell_type": "code",
   "execution_count": null,
   "id": "9b218522-de69-43c3-8355-6636b9c12bcc",
   "metadata": {},
   "outputs": [],
   "source": []
  },
  {
   "cell_type": "markdown",
   "id": "01ecd9aa-fd03-4518-a877-1df25f0c5f47",
   "metadata": {},
   "source": [
    "##  Q3. Create a Pandas DataFrame that contains the following data:\n",
    "\n",
    "###          Name      Age      Gender\n",
    "####         Alice     25       Female\n",
    "####         Bob       30       Male\n",
    "####         Claire    27     Female\n",
    "\n",
    "##      Then, print the DataFrame."
   ]
  },
  {
   "cell_type": "code",
   "execution_count": 4,
   "id": "75c9b282-57b4-48bf-bae3-5dc8a0e08b46",
   "metadata": {},
   "outputs": [
    {
     "name": "stdout",
     "output_type": "stream",
     "text": [
      "     Name  Age  Gender\n",
      "0   Alice   25  Female\n",
      "1     Bob   30    Male\n",
      "2  Claire   27  Female\n"
     ]
    }
   ],
   "source": [
    "import pandas as pd\n",
    "data = {'Name':['Alice', 'Bob', 'Claire'], 'Age':[25, 30, 27], 'Gender':['Female', 'Male', 'Female']}\n",
    "df = pd.DataFrame(data)\n",
    "print(df)"
   ]
  },
  {
   "cell_type": "code",
   "execution_count": null,
   "id": "bdd95a31-56c0-45d1-b999-7d80c82c193f",
   "metadata": {},
   "outputs": [],
   "source": []
  },
  {
   "cell_type": "markdown",
   "id": "8b3e004b-2b91-4583-b1c9-d9a8a4270dd8",
   "metadata": {},
   "source": [
    "## Q4. What is ‘DataFrame’ in pandas and how is it different from pandas.series? Explain with an example."
   ]
  },
  {
   "cell_type": "markdown",
   "id": "069758e3-5db2-4f47-b129-7989e664241e",
   "metadata": {},
   "source": [
    "\n",
    "### Ans-  Dataframe:- A Pandas DataFrame is a 2 dimensional data structure, like a 2 dimensional array, or a table with rows and columns and A pandas series is a one-dimensional data structure that comprises of key-value pair, where keys/labels are the indices and values are the values stored on that index. It is similar to a python dictionary, except it provides more freedom to manipulate and edit the data.\n",
    "\n"
   ]
  },
  {
   "cell_type": "code",
   "execution_count": 5,
   "id": "2683e271-3b99-453a-b59c-01cb0117accc",
   "metadata": {},
   "outputs": [
    {
     "name": "stdout",
     "output_type": "stream",
     "text": [
      "0     apples\n",
      "1    oranges\n",
      "2    bananas\n",
      "dtype: object\n"
     ]
    }
   ],
   "source": [
    "# Example of pandas.series\n",
    "\n",
    "import pandas as pd\n",
    "fruit = pd.Series([\"apples\", \"oranges\", \"bananas\"])\n",
    "print(fruit)\n",
    "\n"
   ]
  },
  {
   "cell_type": "code",
   "execution_count": 17,
   "id": "5b0a8dc9-df16-400e-a9e7-a445dfa69398",
   "metadata": {},
   "outputs": [
    {
     "name": "stdout",
     "output_type": "stream",
     "text": [
      "  fruits_name  quantityIn_kg  pricePer_kg\n",
      "0      Apples             20           80\n",
      "1     Oranges             25           85\n",
      "2      Grapes             30          120\n"
     ]
    }
   ],
   "source": [
    "# Example of pandas.DataFrame\n",
    "\n",
    "import pandas as pd\n",
    "fruits_list = {'fruits_name':[\"Apples\", \"Oranges\", \"Grapes\"], \n",
    "               'quantityIn_kg':[20,25,30], \n",
    "               'pricePer_kg' :[80,85,120]}\n",
    "\n",
    "df2= pd.DataFrame(fruits_list)\n",
    "print(df2)"
   ]
  },
  {
   "cell_type": "raw",
   "id": "d9d931c7-b4a9-4a82-81fa-80b00e4e7a47",
   "metadata": {},
   "source": []
  },
  {
   "cell_type": "markdown",
   "id": "9b6a821c-040e-4451-a7c6-ccc8ea298b49",
   "metadata": {},
   "source": [
    "## Q5. What are some common functions you can use to manipulate data in a Pandas DataFrame? Can you give an example of when you might use one of these functions?"
   ]
  },
  {
   "cell_type": "code",
   "execution_count": 34,
   "id": "6b384fc2-b2d3-4054-94e1-a76bcdc51a0a",
   "metadata": {},
   "outputs": [
    {
     "name": "stdout",
     "output_type": "stream",
     "text": [
      "         age  qualified\n",
      "Pete      50       True\n",
      "Patrick   40      False\n",
      "Paula     30      False\n"
     ]
    }
   ],
   "source": [
    "# These the are some common function you cna use to manipulate data in a pandas DataFrame.  \n",
    "'''\n",
    "1. read_csv()\n",
    "2. head()\n",
    "3. tail()\n",
    "4. shape()\n",
    "5. describe()\n",
    "6. dropna()\n",
    "7. merge()\n",
    "8. rename()\n",
    "9. sort_values()\n",
    "10. read_excel()\n",
    "11. read_html()\n",
    "'''\n",
    "# Example of rename().\n",
    "import pandas as pd\n",
    "\n",
    "data = { \"age\": [25, 24, 23], \"qualified\": [True, False, False]}\n",
    "\n",
    "student_name = [\"Nitish\", \"amit\", \"sumit\"]\n",
    "df = pd.DataFrame(data, index=student)\n",
    "\n",
    "df1 = df.rename({\"Nitish\": \"prince\", \"amit\": \"aman\", \"sumit\": \"abhinav\"})\n",
    "\n",
    "print(df1)\n"
   ]
  },
  {
   "cell_type": "markdown",
   "id": "232b76a7-76c4-440b-a5ae-54bfe88e27c2",
   "metadata": {},
   "source": [
    "## Q6. Which of the following is mutable in nature Series, DataFrame, Panel?"
   ]
  },
  {
   "cell_type": "markdown",
   "id": "6bd3820f-1b80-4b24-b0b4-58b3c54ec67a",
   "metadata": {},
   "source": [
    "### Ans:-\n",
    "### DataFrames:- It is a two-dimensional array with heterogeneous data.DataFrames Have both value-mutable and size-mutable.\n",
    "### Series:- It is a one-dimensional array like structure with homogeneous data.Series is only value-mutable, not size-mutable.The length of a Series cannot be changed although the values can be changed.\n",
    "### Panel:- It is a three-dimensional data structure with heterogeneous data. It is hard to represent the panel in graphical representation. But a panel can be illustrated as a container of DataFrame.Size Mutable,Data Mutable."
   ]
  },
  {
   "cell_type": "markdown",
   "id": "47200643-ffa9-44e4-b680-0db2b1c1b455",
   "metadata": {},
   "source": [
    "## Q7. Create a DataFrame using multiple Series. Explain with an example."
   ]
  },
  {
   "cell_type": "markdown",
   "id": "dd9fd0f4-af80-484f-bec9-8cedf0d91ee8",
   "metadata": {},
   "source": [
    "### Ans:-We can create a DataFrame from multiple Series objects by adding each series as a columns.By using concat() method you can merge multiple series together into DataFrame. This takes several params, for our scenario we use list that takes series to combine and axis=1 to specify merge series as columns instead of rows."
   ]
  },
  {
   "cell_type": "code",
   "execution_count": 21,
   "id": "728dc399-40f1-4618-8eff-118abb18c276",
   "metadata": {},
   "outputs": [
    {
     "name": "stdout",
     "output_type": "stream",
     "text": [
      "                      0     1    2\n",
      "0        data structure  2500  250\n",
      "1                  java  3000  300\n",
      "2  data science masters  3500  350\n"
     ]
    }
   ],
   "source": [
    "# Example of DataFrame using multiple Series.\n",
    "\n",
    "import pandas as pwskills\n",
    "\n",
    "courses = pwskills.Series([\"data structure\",\"java\",\"data science masters\"])\n",
    "fees = pwskills.Series([2500,3000,3500])\n",
    "discount  = pwskills.Series([250,300,350])\n",
    "\n",
    "df=pwskills.concat([courses,fees],axis=1)\n",
    "\n",
    "df=pwskills.concat([courses,fees,discount],axis=1)\n",
    "print(df)"
   ]
  },
  {
   "cell_type": "code",
   "execution_count": null,
   "id": "f7b99b56-01f8-4445-ab3d-6e9dbbbeeb8a",
   "metadata": {},
   "outputs": [],
   "source": []
  }
 ],
 "metadata": {
  "kernelspec": {
   "display_name": "Python 3 (ipykernel)",
   "language": "python",
   "name": "python3"
  },
  "language_info": {
   "codemirror_mode": {
    "name": "ipython",
    "version": 3
   },
   "file_extension": ".py",
   "mimetype": "text/x-python",
   "name": "python",
   "nbconvert_exporter": "python",
   "pygments_lexer": "ipython3",
   "version": "3.9.13"
  }
 },
 "nbformat": 4,
 "nbformat_minor": 5
}
